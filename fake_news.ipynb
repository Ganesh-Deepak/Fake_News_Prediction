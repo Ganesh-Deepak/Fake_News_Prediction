{
 "cells": [
  {
   "cell_type": "code",
   "execution_count": 1,
   "id": "1d65d425-6fe8-4e9b-826d-1c8f64931971",
   "metadata": {
    "execution": {
     "iopub.execute_input": "2022-07-12T14:40:25.525701Z",
     "iopub.status.busy": "2022-07-12T14:40:25.525289Z",
     "iopub.status.idle": "2022-07-12T14:40:26.445404Z",
     "shell.execute_reply": "2022-07-12T14:40:26.444385Z",
     "shell.execute_reply.started": "2022-07-12T14:40:25.525629Z"
    }
   },
   "outputs": [],
   "source": [
    "import numpy as np\n",
    "import pandas as pd\n",
    "import itertools\n",
    "from sklearn.model_selection import train_test_split\n",
    "from sklearn.feature_extraction.text import TfidfVectorizer\n",
    "from sklearn.linear_model import PassiveAggressiveClassifier\n",
    "from sklearn.metrics import accuracy_score, confusion_matrix"
   ]
  },
  {
   "cell_type": "code",
   "execution_count": 2,
   "id": "af59a56a-5354-4260-92dd-b1655e2aba8f",
   "metadata": {
    "execution": {
     "iopub.execute_input": "2022-07-12T14:45:17.840716Z",
     "iopub.status.busy": "2022-07-12T14:45:17.839722Z",
     "iopub.status.idle": "2022-07-12T14:45:18.299711Z",
     "shell.execute_reply": "2022-07-12T14:45:18.298621Z",
     "shell.execute_reply.started": "2022-07-12T14:45:17.840688Z"
    }
   },
   "outputs": [
    {
     "data": {
      "text/html": [
       "<div>\n",
       "<style scoped>\n",
       "    .dataframe tbody tr th:only-of-type {\n",
       "        vertical-align: middle;\n",
       "    }\n",
       "\n",
       "    .dataframe tbody tr th {\n",
       "        vertical-align: top;\n",
       "    }\n",
       "\n",
       "    .dataframe thead th {\n",
       "        text-align: right;\n",
       "    }\n",
       "</style>\n",
       "<table border=\"1\" class=\"dataframe\">\n",
       "  <thead>\n",
       "    <tr style=\"text-align: right;\">\n",
       "      <th></th>\n",
       "      <th>Unnamed: 0</th>\n",
       "      <th>title</th>\n",
       "      <th>text</th>\n",
       "      <th>label</th>\n",
       "    </tr>\n",
       "  </thead>\n",
       "  <tbody>\n",
       "    <tr>\n",
       "      <th>0</th>\n",
       "      <td>8476</td>\n",
       "      <td>You Can Smell Hillary’s Fear</td>\n",
       "      <td>Daniel Greenfield, a Shillman Journalism Fello...</td>\n",
       "      <td>FAKE</td>\n",
       "    </tr>\n",
       "    <tr>\n",
       "      <th>1</th>\n",
       "      <td>10294</td>\n",
       "      <td>Watch The Exact Moment Paul Ryan Committed Pol...</td>\n",
       "      <td>Google Pinterest Digg Linkedin Reddit Stumbleu...</td>\n",
       "      <td>FAKE</td>\n",
       "    </tr>\n",
       "    <tr>\n",
       "      <th>2</th>\n",
       "      <td>3608</td>\n",
       "      <td>Kerry to go to Paris in gesture of sympathy</td>\n",
       "      <td>U.S. Secretary of State John F. Kerry said Mon...</td>\n",
       "      <td>REAL</td>\n",
       "    </tr>\n",
       "    <tr>\n",
       "      <th>3</th>\n",
       "      <td>10142</td>\n",
       "      <td>Bernie supporters on Twitter erupt in anger ag...</td>\n",
       "      <td>— Kaydee King (@KaydeeKing) November 9, 2016 T...</td>\n",
       "      <td>FAKE</td>\n",
       "    </tr>\n",
       "    <tr>\n",
       "      <th>4</th>\n",
       "      <td>875</td>\n",
       "      <td>The Battle of New York: Why This Primary Matters</td>\n",
       "      <td>It's primary day in New York and front-runners...</td>\n",
       "      <td>REAL</td>\n",
       "    </tr>\n",
       "  </tbody>\n",
       "</table>\n",
       "</div>"
      ],
      "text/plain": [
       "   Unnamed: 0                                              title  \\\n",
       "0        8476                       You Can Smell Hillary’s Fear   \n",
       "1       10294  Watch The Exact Moment Paul Ryan Committed Pol...   \n",
       "2        3608        Kerry to go to Paris in gesture of sympathy   \n",
       "3       10142  Bernie supporters on Twitter erupt in anger ag...   \n",
       "4         875   The Battle of New York: Why This Primary Matters   \n",
       "\n",
       "                                                text label  \n",
       "0  Daniel Greenfield, a Shillman Journalism Fello...  FAKE  \n",
       "1  Google Pinterest Digg Linkedin Reddit Stumbleu...  FAKE  \n",
       "2  U.S. Secretary of State John F. Kerry said Mon...  REAL  \n",
       "3  — Kaydee King (@KaydeeKing) November 9, 2016 T...  FAKE  \n",
       "4  It's primary day in New York and front-runners...  REAL  "
      ]
     },
     "execution_count": 2,
     "metadata": {},
     "output_type": "execute_result"
    }
   ],
   "source": [
    "df=pd.read_csv('news.csv')\n",
    "\n",
    "df.shape\n",
    "df.head()"
   ]
  },
  {
   "cell_type": "code",
   "execution_count": 3,
   "id": "4feab50d-ecef-4b3f-aeb5-42ca86fbcb66",
   "metadata": {
    "execution": {
     "iopub.execute_input": "2022-07-12T14:45:36.252452Z",
     "iopub.status.busy": "2022-07-12T14:45:36.251610Z",
     "iopub.status.idle": "2022-07-12T14:45:36.259171Z",
     "shell.execute_reply": "2022-07-12T14:45:36.258323Z",
     "shell.execute_reply.started": "2022-07-12T14:45:36.252417Z"
    }
   },
   "outputs": [
    {
     "data": {
      "text/plain": [
       "0    FAKE\n",
       "1    FAKE\n",
       "2    REAL\n",
       "3    FAKE\n",
       "4    REAL\n",
       "Name: label, dtype: object"
      ]
     },
     "execution_count": 3,
     "metadata": {},
     "output_type": "execute_result"
    }
   ],
   "source": [
    "labels=df.label\n",
    "labels.head()"
   ]
  },
  {
   "cell_type": "code",
   "execution_count": 4,
   "id": "d54b9cc0-2f8a-476c-ae4c-3a522f9b500c",
   "metadata": {
    "execution": {
     "iopub.execute_input": "2022-07-12T14:45:49.491673Z",
     "iopub.status.busy": "2022-07-12T14:45:49.490208Z",
     "iopub.status.idle": "2022-07-12T14:45:49.500075Z",
     "shell.execute_reply": "2022-07-12T14:45:49.499306Z",
     "shell.execute_reply.started": "2022-07-12T14:45:49.491641Z"
    }
   },
   "outputs": [],
   "source": [
    "x_train,x_test,y_train,y_test=train_test_split(df['text'], labels, test_size=0.2, random_state=7)"
   ]
  },
  {
   "cell_type": "code",
   "execution_count": 5,
   "id": "5f94618d-e0e9-4135-977a-6347524e30a5",
   "metadata": {
    "execution": {
     "iopub.execute_input": "2022-07-12T14:46:19.511586Z",
     "iopub.status.busy": "2022-07-12T14:46:19.510390Z",
     "iopub.status.idle": "2022-07-12T14:46:23.662121Z",
     "shell.execute_reply": "2022-07-12T14:46:23.660973Z",
     "shell.execute_reply.started": "2022-07-12T14:46:19.511546Z"
    }
   },
   "outputs": [],
   "source": [
    "tfidf_vectorizer=TfidfVectorizer(stop_words='english', max_df=0.7)\n",
    "\n",
    "tfidf_train=tfidf_vectorizer.fit_transform(x_train) \n",
    "tfidf_test=tfidf_vectorizer.transform(x_test)\n"
   ]
  },
  {
   "cell_type": "code",
   "execution_count": 7,
   "id": "5d61761b-3e45-47ea-b47e-e2ae680b5e2b",
   "metadata": {
    "execution": {
     "iopub.execute_input": "2022-07-12T14:46:44.362265Z",
     "iopub.status.busy": "2022-07-12T14:46:44.361779Z",
     "iopub.status.idle": "2022-07-12T14:46:44.493790Z",
     "shell.execute_reply": "2022-07-12T14:46:44.492773Z",
     "shell.execute_reply.started": "2022-07-12T14:46:44.362230Z"
    }
   },
   "outputs": [
    {
     "name": "stdout",
     "output_type": "stream",
     "text": [
      "Accuracy: 92.9%\n"
     ]
    }
   ],
   "source": [
    "\n",
    "pac=PassiveAggressiveClassifier(max_iter=50)\n",
    "pac.fit(tfidf_train,y_train)\n",
    "\n",
    "\n",
    "y_pred=pac.predict(tfidf_test)\n",
    "score=accuracy_score(y_test,y_pred)\n",
    "print(f'Accuracy: {round(score*100,2)}%')"
   ]
  },
  {
   "cell_type": "code",
   "execution_count": 8,
   "id": "1562e290-1b2b-4d1d-b74c-cebc5fc3b672",
   "metadata": {
    "execution": {
     "iopub.execute_input": "2022-07-12T14:47:04.237926Z",
     "iopub.status.busy": "2022-07-12T14:47:04.237553Z",
     "iopub.status.idle": "2022-07-12T14:47:04.249986Z",
     "shell.execute_reply": "2022-07-12T14:47:04.249036Z",
     "shell.execute_reply.started": "2022-07-12T14:47:04.237900Z"
    }
   },
   "outputs": [
    {
     "data": {
      "text/plain": [
       "array([[591,  47],\n",
       "       [ 43, 586]])"
      ]
     },
     "execution_count": 8,
     "metadata": {},
     "output_type": "execute_result"
    }
   ],
   "source": [
    "confusion_matrix(y_test,y_pred, labels=['FAKE','REAL'])"
   ]
  },
  {
   "cell_type": "code",
   "execution_count": null,
   "id": "ffd97e31-33ef-4e68-a89c-c0ea7a3cf782",
   "metadata": {},
   "outputs": [],
   "source": []
  }
 ],
 "metadata": {
  "kernelspec": {
   "display_name": "Python 3 (ipykernel)",
   "language": "python",
   "name": "python3"
  },
  "language_info": {
   "codemirror_mode": {
    "name": "ipython",
    "version": 3
   },
   "file_extension": ".py",
   "mimetype": "text/x-python",
   "name": "python",
   "nbconvert_exporter": "python",
   "pygments_lexer": "ipython3",
   "version": "3.9.13"
  }
 },
 "nbformat": 4,
 "nbformat_minor": 5
}
